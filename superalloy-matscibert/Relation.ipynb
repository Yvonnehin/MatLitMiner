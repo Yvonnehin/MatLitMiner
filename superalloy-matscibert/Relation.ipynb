{
 "cells": [
  {
   "cell_type": "code",
   "execution_count": null,
   "metadata": {
    "colab": {
     "base_uri": "https://localhost:8080/"
    },
    "executionInfo": {
     "elapsed": 527,
     "status": "ok",
     "timestamp": 1687341195431,
     "user": {
      "displayName": "Matteo Cobelli",
      "userId": "17392109659991523960"
     },
     "user_tz": -60
    },
    "id": "vA2FIfEFLFRD",
    "outputId": "81b5d29d-27b5-4ef6-baf9-cc71e693d627"
   },
   "outputs": [],
   "source": [
    "import numpy as np\n",
    "import pandas as pd\n",
    "from ipywidgets import widgets\n",
    "from IPython.display import display\n",
    "import re\n",
    "from pymatgen.core import Composition\n",
    "from torch.utils.data import DataLoader\n",
    "from torch import cuda\n",
    "from transformers import BertTokenizerFast\n",
    "from seqeval.metrics import classification_report\n",
    "import os\n",
    "import json\n",
    "\n",
    "import torch\n",
    "\n",
    "import psie\n",
    "\n",
    "import nltk\n",
    "# nltk.download(\"punkt\", quiet=True)"
   ]
  },
  {
   "cell_type": "code",
   "execution_count": null,
   "metadata": {
    "colab": {
     "base_uri": "https://localhost:8080/"
    },
    "executionInfo": {
     "elapsed": 35,
     "status": "ok",
     "timestamp": 1687341195431,
     "user": {
      "displayName": "Matteo Cobelli",
      "userId": "17392109659991523960"
     },
     "user_tz": -60
    },
    "id": "46QgNmwqLFjq",
    "outputId": "d548e3ac-5ad7-4c4f-f532-2dad8794a333"
   },
   "outputs": [],
   "source": [
    "device = \"cuda\" if cuda.is_available() else \"cpu\"\n",
    "print(device)"
   ]
  },
  {
   "cell_type": "code",
   "execution_count": null,
   "metadata": {
    "colab": {
     "base_uri": "https://localhost:8080/",
     "height": 86,
     "referenced_widgets": [
      "3147e3e6008e4f33aaf76c209f90780a",
      "ba6841c326eb4393ac906bb2522b1f6b",
      "438da170a4cd469aaabf925015a68691"
     ]
    },
    "executionInfo": {
     "elapsed": 28,
     "status": "ok",
     "timestamp": 1687341195432,
     "user": {
      "displayName": "Matteo Cobelli",
      "userId": "17392109659991523960"
     },
     "user_tz": -60
    },
    "id": "L5cFHY7c-1ix",
    "outputId": "aa628d55-26f1-49ef-a2fc-281dc62102a1"
   },
   "outputs": [],
   "source": [
    "radio_buttons = widgets.RadioButtons(\n",
    "    options=[\"Solvus\"], value=\"Solvus\", description=''\n",
    ")\n",
    "print(\"Extraction Target: \")\n",
    "display(radio_buttons)"
   ]
  },
  {
   "cell_type": "code",
   "execution_count": null,
   "metadata": {
    "id": "ltxutpiqLFyQ"
   },
   "outputs": [],
   "source": [
    "if radio_buttons.value == \"Solvus\":\n",
    "  extr_target = \"Solvus\"\n",
    "\n",
    "MAX_LEN = 256\n",
    "MAIN_DIR = os.getcwd()\n",
    "MODEL_DIR =  os.path.join(\"models\", extr_target, \"relation\")                    # Fine-tuned Relation cls model\n",
    "CORPUS = \"extraction.json\"\n",
    "DATABASE_OUT = \"relations_extraction\"                                     # Name of the output file\n",
    "BERT_VERSION = r'/pretrained_models/m3rg-iitd/matscibert'"
   ]
  },
  {
   "cell_type": "markdown",
   "metadata": {
    "id": "OCRHQHVKXObk"
   },
   "source": [
    "添加标识符"
   ]
  },
  {
   "cell_type": "code",
   "execution_count": null,
   "metadata": {
    "colab": {
     "base_uri": "https://localhost:8080/"
    },
    "executionInfo": {
     "elapsed": 20,
     "status": "ok",
     "timestamp": 1687341195434,
     "user": {
      "displayName": "Matteo Cobelli",
      "userId": "17392109659991523960"
     },
     "user_tz": -60
    },
    "id": "htRA3-bELGBN",
    "outputId": "d4308a74-8123-4422-9e69-dd5d1ffc7d19"
   },
   "outputs": [],
   "source": [
    "tokenizer = BertTokenizerFast.from_pretrained('./models/Tc/relation')\n",
    "new_tokens = [\"[E1]\", \"[/E1]\", \"[E2]\", \"[/E2]\"]\n",
    "tokenizer.add_tokens(list(new_tokens))"
   ]
  },
  {
   "cell_type": "code",
   "execution_count": null,
   "metadata": {
    "id": "-h-u1KeHX0yu"
   },
   "outputs": [],
   "source": [
    "with open('./extraction.json',\"r\",encoding='utf-8') as f:\n",
    "  data = json.load(f)"
   ]
  },
  {
   "cell_type": "code",
   "execution_count": null,
   "metadata": {},
   "outputs": [],
   "source": [
    "data = psie.fromNer(data)\n",
    "data"
   ]
  },
  {
   "cell_type": "code",
   "execution_count": null,
   "metadata": {},
   "outputs": [],
   "source": [
    "len(data['sentence'])"
   ]
  },
  {
   "cell_type": "code",
   "execution_count": null,
   "metadata": {
    "id": "DSqQELDHT3y4"
   },
   "outputs": [],
   "source": [
    "ner_dataset = {'sentence': [], 'isrelated': [], 'source': []}\n",
    "\n",
    "for i in range(len(data['sentence'])):\n",
    "    if ('[E1]' in data['sentence'][i]) and ('[E2]' in data['sentence'][i]):\n",
    "        ner_dataset['sentence'].append(str(data['sentence'][i]))\n",
    "        ner_dataset['isrelated'].append(None)\n",
    "        ner_dataset['source'].append(data['source'][i])"
   ]
  },
  {
   "cell_type": "code",
   "execution_count": null,
   "metadata": {},
   "outputs": [],
   "source": [
    "ner_dataset"
   ]
  },
  {
   "cell_type": "code",
   "execution_count": null,
   "metadata": {},
   "outputs": [],
   "source": [
    "len(ner_dataset['sentence'])"
   ]
  },
  {
   "cell_type": "code",
   "execution_count": null,
   "metadata": {
    "colab": {
     "base_uri": "https://localhost:8080/"
    },
    "executionInfo": {
     "elapsed": 2719,
     "status": "ok",
     "timestamp": 1687341198141,
     "user": {
      "displayName": "Matteo Cobelli",
      "userId": "17392109659991523960"
     },
     "user_tz": -60
    },
    "id": "JpxYja65LGP2",
    "outputId": "704c25a1-21f5-4a72-a34e-f9f947265af1"
   },
   "outputs": [],
   "source": [
    "ner = psie.RelationDataset(\n",
    "    ner_dataset, tokenizer, max_len=MAX_LEN\n",
    ")\n",
    "\n",
    "ner_params = {\"batch_size\": 8, \"shuffle\": False, \"num_workers\": 0}\n",
    "\n",
    "ner_loader = DataLoader(ner, **ner_params)\n",
    "\n",
    "model = psie.BertForRelations(pretrained='./corpus', dropout=0.2, use_cls_embedding=True)\n",
    "model.bert.resize_token_embeddings(len(tokenizer))\n",
    "model.to(device)"
   ]
  },
  {
   "cell_type": "markdown",
   "metadata": {
    "id": "zwUUuact80Dz"
   },
   "source": [
    "### Predictions on the BERT NER output"
   ]
  },
  {
   "cell_type": "markdown",
   "metadata": {
    "id": "pT9e4_1cLZht"
   },
   "source": [
    "Load model"
   ]
  },
  {
   "cell_type": "code",
   "execution_count": null,
   "metadata": {
    "colab": {
     "base_uri": "https://localhost:8080/"
    },
    "executionInfo": {
     "elapsed": 534,
     "status": "ok",
     "timestamp": 1687341198672,
     "user": {
      "displayName": "Matteo Cobelli",
      "userId": "17392109659991523960"
     },
     "user_tz": -60
    },
    "id": "n7X_yqKiLGdu",
    "outputId": "7629a7f5-64e6-46bb-fa16-935fdc91bf11"
   },
   "outputs": [],
   "source": [
    "\n",
    "model.load_state_dict(torch.load(os.path.join('./relation.pt'), map_location=torch.device(device)),strict=False)"
   ]
  },
  {
   "cell_type": "code",
   "execution_count": null,
   "metadata": {
    "id": "36vBbqpqsajV"
   },
   "outputs": [],
   "source": [
    "pred = model.predict(val_loader, device)\n",
    "predictions = []\n",
    "for i in range(len(pred)):\n",
    "  predictions.append(np.argmax(pred[i].cpu().numpy()))"
   ]
  },
  {
   "cell_type": "code",
   "execution_count": null,
   "metadata": {},
   "outputs": [],
   "source": [
    "predictions"
   ]
  },
  {
   "cell_type": "markdown",
   "metadata": {},
   "source": [
    "预测"
   ]
  },
  {
   "cell_type": "code",
   "execution_count": null,
   "metadata": {},
   "outputs": [],
   "source": [
    "print(len(predictions))\n",
    "print(sum(predictions))"
   ]
  },
  {
   "cell_type": "code",
   "execution_count": null,
   "metadata": {},
   "outputs": [],
   "source": [
    "database = {\"compound\": [], extr_target: [], \"sentence\": [], \"source\": []}\n",
    "\n",
    "for i in range(len(predictions)):\n",
    "  if predictions[i] == 1:\n",
    "    comp = re.findall(re.escape(\"[E1]\")+\".*\"+re.escape(\"[/E1]\"), ner_dataset['sentence'][i])\n",
    "    temp = re.findall(re.escape(\"[E2]\")+\".*\"+re.escape(\"[/E2]\"), ner_dataset['sentence'][i])\n",
    "\n",
    "    if (len(comp)>0) and (len(temp)>0):\n",
    "      comp = comp[0].replace(\"[E1]\", \"\").replace(\"[/E1]\", \"\").replace(\" \", \"\")\n",
    "      database[\"compound\"].append(comp)\n",
    "      temp = temp[0].replace(\"[E2]\", \"\").replace(\"[/E2]\", \"\").replace(\" \", \"\")\n",
    "      database[extr_target].append(temp)\n",
    "      database[\"sentence\"].append(ner_dataset['sentence'][i])\n",
    "      database[\"source\"].append(ner_dataset['source'][i])"
   ]
  },
  {
   "cell_type": "code",
   "execution_count": null,
   "metadata": {},
   "outputs": [],
   "source": [
    "database = pd.DataFrame(database)\n",
    "database"
   ]
  },
  {
   "cell_type": "code",
   "execution_count": null,
   "metadata": {},
   "outputs": [],
   "source": [
    "database.to_csv('./extraction_new.csv',encoding='utf-8')"
   ]
  },
  {
   "cell_type": "markdown",
   "metadata": {},
   "source": [
    "### 微调"
   ]
  },
  {
   "cell_type": "code",
   "execution_count": null,
   "metadata": {},
   "outputs": [],
   "source": [
    "import random\n",
    "# 打乱数据集\n",
    "combined = list(zip(ner_dataset['sentence'], ner_dataset['isrelated'], ner_dataset['source']))\n",
    "random.shuffle(combined)\n",
    "shuffled_sentences, shuffled_isrelated, shuffled_sources = zip(*combined)\n",
    "# 计算数据集长度\n",
    "length = len(shuffled_sentences)\n",
    "# 按比例划分数据集\n",
    "train_size = int(length * 0.7)\n",
    "train_dataset = {\n",
    "    'sentence': shuffled_sentences[:train_size],\n",
    "    'isrelated': shuffled_isrelated[:train_size],\n",
    "    'source': shuffled_sources[:train_size]\n",
    "}\n",
    "val_dataset = {\n",
    "    'sentence': shuffled_sentences[train_size:],\n",
    "    'isrelated': shuffled_isrelated[train_size:],\n",
    "    'source': shuffled_sources[train_size:]\n",
    "}"
   ]
  },
  {
   "cell_type": "code",
   "execution_count": null,
   "metadata": {},
   "outputs": [],
   "source": [
    "tokenizer = BertTokenizerFast.from_pretrained(BERT_VERSION)\n",
    "new_tokens = [\"[E1]\", \"[/E1]\", \"[E2]\", \"[/E2]\"]\n",
    "tokenizer.add_tokens(list(new_tokens))\n",
    "train_ner = psie.RelationDataset(train_dataset, tokenizer, max_len=MAX_LEN)\n",
    "ner_params = {\"batch_size\": 8, \"shuffle\": False, \"num_workers\": 0}\n",
    "train_loader = DataLoader(train_ner, **ner_params)\n",
    "\n",
    "val_ner = psie.RelationDataset(val_dataset, tokenizer, max_len=MAX_LEN)\n",
    "ner_params = {\"batch_size\": 8, \"shuffle\": False, \"num_workers\": 0}\n",
    "val_loader = DataLoader(val_ner, **ner_params)"
   ]
  },
  {
   "cell_type": "code",
   "execution_count": null,
   "metadata": {},
   "outputs": [],
   "source": [
    "\n",
    "model = psie.BertForRelations(pretrained=BERT_VERSION, dropout=0.2, use_cls_embedding=True)\n",
    "model.bert.resize_token_embeddings(len(tokenizer))\n",
    "model.to(device)"
   ]
  },
  {
   "cell_type": "code",
   "execution_count": null,
   "metadata": {},
   "outputs": [],
   "source": [
    "from sklearn.utils.class_weight import compute_class_weight\n",
    "\n",
    "class_weights = compute_class_weight('balanced', classes=[0, 1], y=train_dataset['isrelated'])\n",
    "class_weights = torch.tensor(class_weights, dtype=torch.float32).to(device)\n",
    "class_weights"
   ]
  },
  {
   "cell_type": "code",
   "execution_count": null,
   "metadata": {},
   "outputs": [],
   "source": [
    "from transformers import AdamW, get_linear_schedule_with_warmup\n",
    "\n",
    "# 初始化优化器和学习率调度器\n",
    "num_epochs = Num_Epochs\n",
    "max_norm = 0.5 # 梯度裁剪的最大范数\n",
    "optimizer = AdamW(model.parameters(), lr=1e-5, weight_decay=0.01, correct_bias=False)  # 添加权重衰减\n",
    "total_steps = len(train_loader) * num_epochs\n",
    "num_warmup_steps = int(total_steps * 0.1)  # 10% 的 warmup 步骤\n",
    "scheduler = get_linear_schedule_with_warmup(optimizer, \n",
    "                                            num_warmup_steps=num_warmup_steps, \n",
    "                                            num_training_steps=total_steps)"
   ]
  },
  {
   "cell_type": "code",
   "execution_count": null,
   "metadata": {},
   "outputs": [],
   "source": [
    "tr_Loss_list = []\n",
    "val_Loss_list = []\n",
    "val_Acc_list = []\n",
    "val_f1_list = []\n",
    "val_recall_list = []\n",
    "tr_Acc_list = []\n",
    "for epoch in range(num_epochs):\n",
    "    print(f\"Epoch {epoch + 1}/{num_epochs}\")\n",
    "    epoch_loss, val_loss_avg, train_accuracy, accuracy, f1, recall = model.finetuning(train_loader, val_loader, device, max_norm, optimizer,weight=class_weights)\n",
    "    tr_Loss_list.append(epoch_loss)\n",
    "    tr_Acc_list.append(train_accuracy)\n",
    "    val_Acc_list.append(accuracy)\n",
    "    val_Loss_list.append(val_loss_avg)\n",
    "    val_f1_list.append(f1)\n",
    "    val_recall_list.append(recall)\n",
    "    # 更新学习率\n",
    "    scheduler.step()"
   ]
  }
 ],
 "metadata": {
  "accelerator": "GPU",
  "colab": {
   "authorship_tag": "ABX9TyPothDqFyA9dw0yEkIYkXKr",
   "provenance": []
  },
  "gpuClass": "standard",
  "kernelspec": {
   "display_name": "Python 3 (ipykernel)",
   "language": "python",
   "name": "python3"
  },
  "language_info": {
   "codemirror_mode": {
    "name": "ipython",
    "version": 3
   },
   "file_extension": ".py",
   "mimetype": "text/x-python",
   "name": "python",
   "nbconvert_exporter": "python",
   "pygments_lexer": "ipython3",
   "version": "3.11.5"
  },
  "toc": {
   "base_numbering": 1,
   "nav_menu": {},
   "number_sections": true,
   "sideBar": true,
   "skip_h1_title": false,
   "title_cell": "Table of Contents",
   "title_sidebar": "Contents",
   "toc_cell": false,
   "toc_position": {
    "height": "calc(100% - 180px)",
    "left": "10px",
    "top": "150px",
    "width": "270.526px"
   },
   "toc_section_display": true,
   "toc_window_display": true
  }
 },
 "nbformat": 4,
 "nbformat_minor": 1
}
