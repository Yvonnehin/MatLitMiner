{
 "cells": [
  {
   "cell_type": "markdown",
   "metadata": {},
   "source": [
    "## NER prediction"
   ]
  },
  {
   "cell_type": "code",
   "execution_count": null,
   "metadata": {
    "colab": {
     "base_uri": "https://localhost:8080/"
    },
    "executionInfo": {
     "elapsed": 29,
     "status": "ok",
     "timestamp": 1687340868159,
     "user": {
      "displayName": "Matteo Cobelli",
      "userId": "17392109659991523960"
     },
     "user_tz": -60
    },
    "id": "_zXZlu6uo0pg",
    "outputId": "29791387-b860-480c-afdb-8e91c2d1efb7"
   },
   "outputs": [],
   "source": [
    "import pandas as pd\n",
    "from ipywidgets import widgets\n",
    "from IPython.display import display\n",
    "import re\n",
    "from pymatgen.core import Composition\n",
    "from torch.utils.data import DataLoader\n",
    "from torch import cuda\n",
    "from transformers import BertTokenizerFast\n",
    "from seqeval.metrics import classification_report\n",
    "import os\n",
    "import json\n",
    "\n",
    "import psie\n",
    "\n",
    "import nltk\n",
    "# nltk.download(\"punkt\", quiet=True)"
   ]
  },
  {
   "cell_type": "code",
   "execution_count": null,
   "metadata": {
    "colab": {
     "base_uri": "https://localhost:8080/"
    },
    "executionInfo": {
     "elapsed": 16,
     "status": "ok",
     "timestamp": 1687340868160,
     "user": {
      "displayName": "Matteo Cobelli",
      "userId": "17392109659991523960"
     },
     "user_tz": -60
    },
    "id": "lcjujr6do1E4",
    "outputId": "01511703-e26a-4109-e1de-9f058febebe7"
   },
   "outputs": [],
   "source": [
    "device = \"cuda\" if cuda.is_available() else \"cpu\"\n",
    "print(device)"
   ]
  },
  {
   "cell_type": "code",
   "execution_count": null,
   "metadata": {
    "colab": {
     "base_uri": "https://localhost:8080/",
     "height": 78,
     "referenced_widgets": [
      "e87becce6aad43aa9a2a2e4d93ef32dc",
      "47d8f9ca90474fd1bc5c17520b858024",
      "fa924eed6437416d9252895a26594e0b"
     ]
    },
    "executionInfo": {
     "elapsed": 13,
     "status": "ok",
     "timestamp": 1687340868160,
     "user": {
      "displayName": "Matteo Cobelli",
      "userId": "17392109659991523960"
     },
     "user_tz": -60
    },
    "id": "7okChZmkbcSM",
    "outputId": "c0c26f04-2747-4d9c-ca26-824c8edc40d8"
   },
   "outputs": [],
   "source": [
    "radio_buttons = widgets.RadioButtons(\n",
    "    options=[\"Solvus\"], value=\"Solvus\", description=''\n",
    ")\n",
    "print(\"Extraction Target: \")\n",
    "display(radio_buttons)"
   ]
  },
  {
   "cell_type": "code",
   "execution_count": null,
   "metadata": {
    "id": "3Ya2H-EGo1Sn"
   },
   "outputs": [],
   "source": [
    "extr_target = \"Solvus\"\n",
    "MAX_LEN = 256\n",
    "MAIN_DIR = os.getcwd()\n",
    "MODEL_DIR = os.path.join(\"models\", extr_target, \"ner\")          # Fine-tuned NER model\n",
    "CORPUS = os.path.join(\"corpus\", extr_target, \"relevant_sentences.json\")\n",
    "OUTPUT = \"test_extraction\"      # Name of the output file\n",
    "BERT_VERSION = r'/pretrained_models/m3rg-iitd/matscibert'"
   ]
  },
  {
   "cell_type": "code",
   "execution_count": null,
   "metadata": {
    "id": "AKzfoy1So1sh"
   },
   "outputs": [],
   "source": [
    "id_to_BOI = {\n",
    "    1: \"B-CHEM\",     # Chemical entity\n",
    "    0: \"O\",          # No entity\n",
    "}\n",
    "\n",
    "if extr_target == \"Solvus\":\n",
    "  id_to_BOI[2] = \"B-SolvusTemp\""
   ]
  },
  {
   "cell_type": "code",
   "execution_count": null,
   "metadata": {},
   "outputs": [],
   "source": [
    "BOI_to_id = {'B-CHEM': 1, \"0\": 0, 'B-SolvusTemp': 2}"
   ]
  },
  {
   "cell_type": "markdown",
   "metadata": {},
   "source": [
    "## NER微调"
   ]
  },
  {
   "cell_type": "code",
   "execution_count": null,
   "metadata": {},
   "outputs": [],
   "source": [
    "from datasets import load_dataset\n",
    "\n",
    "dataset = load_dataset('json', data_files='./ner_input.json')[\"train\"]"
   ]
  },
  {
   "cell_type": "code",
   "execution_count": null,
   "metadata": {},
   "outputs": [],
   "source": [
    "os.environ['CUDA_LAUNCH_BLOCKING'] = '1'  # 启用 CUDA 调试"
   ]
  },
  {
   "cell_type": "code",
   "execution_count": null,
   "metadata": {},
   "outputs": [],
   "source": [
    "model = psie.BertForNer.from_pretrained(BERT_VERSION, num_labels=3)\n",
    "# model = psie.BertForNer.from_pretrained('./models/Tc/ner', num_labels=3)\n",
    "model.to(device)"
   ]
  },
  {
   "cell_type": "code",
   "execution_count": null,
   "metadata": {},
   "outputs": [],
   "source": [
    "# 创建实例，对文本进行编码\n",
    "tokenizer = BertTokenizerFast.from_pretrained(BERT_VERSION)\n",
    "\n",
    "def encode(paper):\n",
    "  return tokenizer(paper[\"sentence\"], truncation=True, max_length=256, padding=\"max_length\")\n",
    "\n",
    "dataset = dataset.map(encode, batched=True)\n",
    "dataset.set_format(type=\"torch\", columns=[\"source\", \"sentence\", \"input_ids\", \"attention_mask\",\n",
    "                                         \"label\"])"
   ]
  },
  {
   "cell_type": "markdown",
   "metadata": {},
   "source": [
    "划分数据集\n",
    "* train_size = 0.6  # 训练集比例\n",
    "* val_size = 0.2  # 验证集比例\n",
    "* test_size = 0.2  # 测试集比例"
   ]
  },
  {
   "cell_type": "code",
   "execution_count": null,
   "metadata": {},
   "outputs": [],
   "source": [
    "train_test = dataset.train_test_split(\n",
    "    test_size=0.4,shuffle=True,seed=666)\n",
    "train_dataset = train_test['train']\n",
    "test_dataset = train_test['test']\n",
    "\n",
    "test_val = test_dataset.train_test_split(\n",
    "    test_size=0.5,shuffle=True,seed=666)\n",
    "test_dataset = test_val['train']\n",
    "val_dataset = test_val['test']"
   ]
  },
  {
   "cell_type": "code",
   "execution_count": null,
   "metadata": {},
   "outputs": [],
   "source": [
    "# 加载编码后的数据集\n",
    "train_loader = DataLoader(train_dataset, batch_size=16, shuffle=False)\n",
    "test_loader = DataLoader(test_dataset, batch_size=16, shuffle=False)\n",
    "val_loader = DataLoader(val_dataset, batch_size=16, shuffle=False)"
   ]
  },
  {
   "cell_type": "code",
   "execution_count": null,
   "metadata": {},
   "outputs": [],
   "source": [
    "import torch\n",
    "import torch.optim as optim\n",
    "from transformers import AdamW, get_linear_schedule_with_warmup\n",
    "\n",
    "# 优化器\n",
    "num_epochs = 150\n",
    "\n",
    "max_norm = 1.0  # 梯度裁剪的最大范数\n",
    "optimizer = AdamW(model.parameters(), lr=2e-5, correct_bias=False)\n",
    "total_steps = len(train_loader) * num_epochs\n",
    "scheduler = get_linear_schedule_with_warmup(optimizer, num_warmup_steps=0, num_training_steps=total_steps)"
   ]
  },
  {
   "cell_type": "code",
   "execution_count": null,
   "metadata": {},
   "outputs": [],
   "source": [
    "tr_Loss_list = []\n",
    "tr_Acc_list = []\n",
    "val_Acc_list = []\n",
    "val_Loss_list = []\n",
    "val_recall_list = []\n",
    "val_f1_list = []\n",
    "for epoch in range(num_epochs):\n",
    "    print(f\"Epoch {epoch + 1}/{num_epochs}\")\n",
    "    tr_loss, tr_accuracy, val_loss, val_accuracy, val_recall, val_f1= model.finetuning(train_loader, val_loader, device, max_norm, optimizer,scheduler)\n",
    "    tr_Loss_list.append(tr_loss)\n",
    "    tr_Acc_list.append(tr_accuracy)\n",
    "    val_Loss_list.append(val_loss)\n",
    "    val_Acc_list.append(val_accuracy)\n",
    "    val_recall_list.append(val_recall)\n",
    "    val_f1_list.append(val_f1)"
   ]
  },
  {
   "cell_type": "code",
   "execution_count": null,
   "metadata": {},
   "outputs": [],
   "source": [
    "# 保存模型参数\n",
    "torch.save(model.state_dict(), './ner_epoch.pt')"
   ]
  },
  {
   "cell_type": "markdown",
   "metadata": {},
   "source": [
    "## test"
   ]
  },
  {
   "cell_type": "code",
   "execution_count": null,
   "metadata": {},
   "outputs": [],
   "source": [
    "# strict=False\n",
    "model = psie.BertForNer.from_pretrained(BERT_VERSION, num_labels=3)\n",
    "model.load_state_dict(torch.load('./ner_epoch.pt'))\n",
    "model.eval()    # 制定model.eval()固定dropout和BN层。\n",
    "model.to(device)"
   ]
  },
  {
   "cell_type": "code",
   "execution_count": null,
   "metadata": {},
   "outputs": [],
   "source": [
    "labels, predictions = model.testLabeledData(test_loader, device, id_to_BOI)"
   ]
  },
  {
   "cell_type": "code",
   "execution_count": null,
   "metadata": {},
   "outputs": [],
   "source": [
    "BOI_to_id = {'B-CHEM': 1, 'O': 0, 'B-SolvusTemp': 2}\n",
    "new_predictions = [BOI_to_id[label] for label in predictions]\n",
    "new_labels = [BOI_to_id[label] for label in labels]"
   ]
  },
  {
   "cell_type": "markdown",
   "metadata": {},
   "source": [
    "在多类别分类问题中，评估指标的 average 参数通常可以选择以下几个选项：\n",
    "* None: 返回每个类别的评估指标，不进行平均。\n",
    "* micro: 对所有类别的真阳性、假阳性和假阴性进行全局计算，然后计算指标。\n",
    "* macro: 对每个类别计算指标，然后求取平均值。每个类别的权重相同。\n",
    "* weighted: 对每个类别计算指标，然后按照每个类别的支持样本数进行加权平均。"
   ]
  },
  {
   "cell_type": "code",
   "execution_count": null,
   "metadata": {},
   "outputs": [],
   "source": []
  }
 ],
 "metadata": {
  "accelerator": "GPU",
  "colab": {
   "authorship_tag": "ABX9TyMIRa2VD1WHuxCcYjw6oQOH",
   "provenance": []
  },
  "gpuClass": "standard",
  "kernelspec": {
   "display_name": "Python 3 (ipykernel)",
   "language": "python",
   "name": "python3"
  },
  "language_info": {
   "codemirror_mode": {
    "name": "ipython",
    "version": 3
   },
   "file_extension": ".py",
   "mimetype": "text/x-python",
   "name": "python",
   "nbconvert_exporter": "python",
   "pygments_lexer": "ipython3",
   "version": "3.11.5"
  },
  "toc": {
   "base_numbering": 1,
   "nav_menu": {},
   "number_sections": true,
   "sideBar": true,
   "skip_h1_title": false,
   "title_cell": "Table of Contents",
   "title_sidebar": "Contents",
   "toc_cell": false,
   "toc_position": {
    "height": "470.898px",
    "left": "1012px",
    "top": "93.4546px",
    "width": "277.091px"
   },
   "toc_section_display": true,
   "toc_window_display": true
  }
 },
 "nbformat": 4,
 "nbformat_minor": 1
}
