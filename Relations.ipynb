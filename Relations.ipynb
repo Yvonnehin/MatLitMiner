{
 "cells": [
  {
   "cell_type": "code",
   "execution_count": 4,
   "metadata": {
    "colab": {
     "base_uri": "https://localhost:8080/"
    },
    "executionInfo": {
     "elapsed": 527,
     "status": "ok",
     "timestamp": 1687341195431,
     "user": {
      "displayName": "Matteo Cobelli",
      "userId": "17392109659991523960"
     },
     "user_tz": -60
    },
    "id": "vA2FIfEFLFRD",
    "outputId": "81b5d29d-27b5-4ef6-baf9-cc71e693d627"
   },
   "outputs": [],
   "source": [
    "import numpy as np\n",
    "import pandas as pd\n",
    "from ipywidgets import widgets\n",
    "from IPython.display import display\n",
    "import re\n",
    "from pymatgen.core import Composition\n",
    "from torch.utils.data import DataLoader\n",
    "from torch import cuda\n",
    "from transformers import BertTokenizerFast\n",
    "from seqeval.metrics import classification_report\n",
    "import os\n",
    "import json\n",
    "\n",
    "import torch\n",
    "\n",
    "import psie\n",
    "\n",
    "import nltk\n",
    "# nltk.download(\"punkt\", quiet=True)"
   ]
  },
  {
   "cell_type": "code",
   "execution_count": 2,
   "metadata": {
    "colab": {
     "base_uri": "https://localhost:8080/"
    },
    "executionInfo": {
     "elapsed": 35,
     "status": "ok",
     "timestamp": 1687341195431,
     "user": {
      "displayName": "Matteo Cobelli",
      "userId": "17392109659991523960"
     },
     "user_tz": -60
    },
    "id": "46QgNmwqLFjq",
    "outputId": "d548e3ac-5ad7-4c4f-f532-2dad8794a333"
   },
   "outputs": [
    {
     "name": "stdout",
     "output_type": "stream",
     "text": [
      "cuda\n"
     ]
    }
   ],
   "source": [
    "device = \"cuda\" if cuda.is_available() else \"cpu\"\n",
    "print(device)"
   ]
  },
  {
   "cell_type": "code",
   "execution_count": 1,
   "metadata": {
    "colab": {
     "base_uri": "https://localhost:8080/",
     "height": 86,
     "referenced_widgets": [
      "3147e3e6008e4f33aaf76c209f90780a",
      "ba6841c326eb4393ac906bb2522b1f6b",
      "438da170a4cd469aaabf925015a68691"
     ]
    },
    "collapsed": true,
    "executionInfo": {
     "elapsed": 28,
     "status": "ok",
     "timestamp": 1687341195432,
     "user": {
      "displayName": "Matteo Cobelli",
      "userId": "17392109659991523960"
     },
     "user_tz": -60
    },
    "id": "L5cFHY7c-1ix",
    "outputId": "aa628d55-26f1-49ef-a2fc-281dc62102a1"
   },
   "outputs": [
    {
     "ename": "NameError",
     "evalue": "name 'widgets' is not defined",
     "output_type": "error",
     "traceback": [
      "\u001b[1;31m---------------------------------------------------------------------------\u001b[0m",
      "\u001b[1;31mNameError\u001b[0m                                 Traceback (most recent call last)",
      "Cell \u001b[1;32mIn[1], line 1\u001b[0m\n\u001b[1;32m----> 1\u001b[0m radio_buttons \u001b[38;5;241m=\u001b[39m widgets\u001b[38;5;241m.\u001b[39mRadioButtons(\n\u001b[0;32m      2\u001b[0m     options\u001b[38;5;241m=\u001b[39m[\u001b[38;5;124m\"\u001b[39m\u001b[38;5;124mSolvus\u001b[39m\u001b[38;5;124m\"\u001b[39m], value\u001b[38;5;241m=\u001b[39m\u001b[38;5;124m\"\u001b[39m\u001b[38;5;124mSolvus\u001b[39m\u001b[38;5;124m\"\u001b[39m, description\u001b[38;5;241m=\u001b[39m\u001b[38;5;124m'\u001b[39m\u001b[38;5;124m'\u001b[39m\n\u001b[0;32m      3\u001b[0m )\n\u001b[0;32m      4\u001b[0m \u001b[38;5;28mprint\u001b[39m(\u001b[38;5;124m\"\u001b[39m\u001b[38;5;124mExtraction Target: \u001b[39m\u001b[38;5;124m\"\u001b[39m)\n\u001b[0;32m      5\u001b[0m display(radio_buttons)\n",
      "\u001b[1;31mNameError\u001b[0m: name 'widgets' is not defined"
     ]
    }
   ],
   "source": [
    "radio_buttons = widgets.RadioButtons(\n",
    "    options=[\"Solvus\"], value=\"Solvus\", description=''\n",
    ")\n",
    "print(\"Extraction Target: \")\n",
    "display(radio_buttons)"
   ]
  },
  {
   "cell_type": "code",
   "execution_count": 4,
   "metadata": {
    "id": "ltxutpiqLFyQ"
   },
   "outputs": [],
   "source": [
    "if radio_buttons.value == \"Solvus\":\n",
    "  extr_target = \"Solvus\"\n",
    "\n",
    "MAX_LEN = 256\n",
    "MAIN_DIR = os.getcwd()\n",
    "MODEL_DIR =  os.path.join(\"models\", extr_target, \"relation\")                    # Fine-tuned Relation cls model\n",
    "CORPUS = \"extraction.json\"\n",
    "DATABASE_OUT = \"relations_extraction\"                                     # Name of the output file\n",
    "BERT_VERSION = r'/pretrained_models/m3rg-iitd/matscibert'"
   ]
  },
  {
   "cell_type": "markdown",
   "metadata": {
    "id": "OCRHQHVKXObk"
   },
   "source": [
    "添加标识符"
   ]
  },
  {
   "cell_type": "code",
   "execution_count": 6,
   "metadata": {
    "colab": {
     "base_uri": "https://localhost:8080/"
    },
    "executionInfo": {
     "elapsed": 20,
     "status": "ok",
     "timestamp": 1687341195434,
     "user": {
      "displayName": "Matteo Cobelli",
      "userId": "17392109659991523960"
     },
     "user_tz": -60
    },
    "id": "htRA3-bELGBN",
    "outputId": "d4308a74-8123-4422-9e69-dd5d1ffc7d19"
   },
   "outputs": [
    {
     "data": {
      "text/plain": [
       "4"
      ]
     },
     "execution_count": 6,
     "metadata": {},
     "output_type": "execute_result"
    }
   ],
   "source": [
    "tokenizer = BertTokenizerFast.from_pretrained('./models/Tc/relation')\n",
    "new_tokens = [\"[E1]\", \"[/E1]\", \"[E2]\", \"[/E2]\"]\n",
    "tokenizer.add_tokens(list(new_tokens))"
   ]
  },
  {
   "cell_type": "code",
   "execution_count": null,
   "metadata": {
    "id": "-h-u1KeHX0yu"
   },
   "outputs": [],
   "source": [
    "with open('./extraction.json',\"r\",encoding='utf-8') as f:\n",
    "  data = json.load(f)"
   ]
  },
  {
   "cell_type": "code",
   "execution_count": null,
   "metadata": {
    "collapsed": true
   },
   "outputs": [],
   "source": [
    "data = psie.fromNer(data)\n",
    "data"
   ]
  },
  {
   "cell_type": "code",
   "execution_count": null,
   "metadata": {},
   "outputs": [],
   "source": [
    "len(data['sentence'])"
   ]
  },
  {
   "cell_type": "code",
   "execution_count": null,
   "metadata": {
    "id": "DSqQELDHT3y4"
   },
   "outputs": [],
   "source": [
    "ner_dataset = {'sentence': [], 'isrelated': [], 'source': []}\n",
    "\n",
    "for i in range(len(data['sentence'])):\n",
    "    if ('[E1]' in data['sentence'][i]) and ('[E2]' in data['sentence'][i]):\n",
    "        ner_dataset['sentence'].append(str(data['sentence'][i]))\n",
    "        ner_dataset['isrelated'].append(None)\n",
    "        ner_dataset['source'].append(data['source'][i])"
   ]
  },
  {
   "cell_type": "code",
   "execution_count": null,
   "metadata": {},
   "outputs": [],
   "source": [
    "ner_dataset"
   ]
  },
  {
   "cell_type": "code",
   "execution_count": null,
   "metadata": {
    "collapsed": true
   },
   "outputs": [],
   "source": [
    "len(ner_dataset['sentence'])"
   ]
  },
  {
   "cell_type": "code",
   "execution_count": null,
   "metadata": {
    "colab": {
     "base_uri": "https://localhost:8080/"
    },
    "collapsed": true,
    "executionInfo": {
     "elapsed": 2719,
     "status": "ok",
     "timestamp": 1687341198141,
     "user": {
      "displayName": "Matteo Cobelli",
      "userId": "17392109659991523960"
     },
     "user_tz": -60
    },
    "id": "JpxYja65LGP2",
    "outputId": "704c25a1-21f5-4a72-a34e-f9f947265af1"
   },
   "outputs": [],
   "source": [
    "ner = psie.RelationDataset(\n",
    "    ner_dataset, tokenizer, max_len=MAX_LEN\n",
    ")\n",
    "\n",
    "ner_params = {\"batch_size\": 8, \"shuffle\": False, \"num_workers\": 0}\n",
    "\n",
    "ner_loader = DataLoader(ner, **ner_params)\n",
    "\n",
    "model = psie.BertForRelations(pretrained='./corpus', dropout=0.2, use_cls_embedding=True)\n",
    "model.bert.resize_token_embeddings(len(tokenizer))\n",
    "model.to(device)"
   ]
  },
  {
   "cell_type": "markdown",
   "metadata": {
    "id": "zwUUuact80Dz"
   },
   "source": [
    "### Predictions on the BERT NER output"
   ]
  },
  {
   "cell_type": "markdown",
   "metadata": {
    "id": "pT9e4_1cLZht"
   },
   "source": [
    "Load model"
   ]
  },
  {
   "cell_type": "code",
   "execution_count": 45,
   "metadata": {
    "colab": {
     "base_uri": "https://localhost:8080/"
    },
    "executionInfo": {
     "elapsed": 534,
     "status": "ok",
     "timestamp": 1687341198672,
     "user": {
      "displayName": "Matteo Cobelli",
      "userId": "17392109659991523960"
     },
     "user_tz": -60
    },
    "id": "n7X_yqKiLGdu",
    "outputId": "7629a7f5-64e6-46bb-fa16-935fdc91bf11"
   },
   "outputs": [
    {
     "data": {
      "text/plain": [
       "<All keys matched successfully>"
      ]
     },
     "execution_count": 45,
     "metadata": {},
     "output_type": "execute_result"
    }
   ],
   "source": [
    "\n",
    "model.load_state_dict(torch.load(os.path.join('./relation.pt'), map_location=torch.device(device)),strict=False)"
   ]
  },
  {
   "cell_type": "code",
   "execution_count": 46,
   "metadata": {
    "id": "36vBbqpqsajV"
   },
   "outputs": [],
   "source": [
    "pred = model.predict(val_loader, device)\n",
    "predictions = []\n",
    "for i in range(len(pred)):\n",
    "  predictions.append(np.argmax(pred[i].cpu().numpy()))"
   ]
  },
  {
   "cell_type": "code",
   "execution_count": 39,
   "metadata": {
    "collapsed": true
   },
   "outputs": [
    {
     "data": {
      "text/plain": [
       "[1,\n",
       " 0,\n",
       " 0,\n",
       " 0,\n",
       " 0,\n",
       " 0,\n",
       " 0,\n",
       " 0,\n",
       " 0,\n",
       " 1,\n",
       " 1,\n",
       " 0,\n",
       " 1,\n",
       " 0,\n",
       " 0,\n",
       " 0,\n",
       " 0,\n",
       " 1,\n",
       " 1,\n",
       " 1,\n",
       " 0,\n",
       " 1,\n",
       " 1,\n",
       " 1,\n",
       " 0,\n",
       " 1,\n",
       " 1,\n",
       " 1,\n",
       " 1,\n",
       " 1,\n",
       " 1,\n",
       " 0,\n",
       " 1,\n",
       " 0,\n",
       " 0,\n",
       " 1,\n",
       " 0,\n",
       " 0,\n",
       " 0,\n",
       " 1,\n",
       " 0,\n",
       " 1,\n",
       " 0,\n",
       " 1]"
      ]
     },
     "execution_count": 39,
     "metadata": {},
     "output_type": "execute_result"
    }
   ],
   "source": [
    "predictions"
   ]
  },
  {
   "cell_type": "markdown",
   "metadata": {},
   "source": [
    "预测"
   ]
  },
  {
   "cell_type": "code",
   "execution_count": null,
   "metadata": {},
   "outputs": [],
   "source": [
    "print(len(predictions))\n",
    "print(sum(predictions))"
   ]
  },
  {
   "cell_type": "code",
   "execution_count": null,
   "metadata": {},
   "outputs": [],
   "source": [
    "database = {\"compound\": [], extr_target: [], \"sentence\": [], \"source\": []}\n",
    "\n",
    "for i in range(len(predictions)):\n",
    "  if predictions[i] == 1:\n",
    "    comp = re.findall(re.escape(\"[E1]\")+\".*\"+re.escape(\"[/E1]\"), ner_dataset['sentence'][i])\n",
    "    temp = re.findall(re.escape(\"[E2]\")+\".*\"+re.escape(\"[/E2]\"), ner_dataset['sentence'][i])\n",
    "\n",
    "    if (len(comp)>0) and (len(temp)>0):\n",
    "      comp = comp[0].replace(\"[E1]\", \"\").replace(\"[/E1]\", \"\").replace(\" \", \"\")\n",
    "      database[\"compound\"].append(comp)\n",
    "      temp = temp[0].replace(\"[E2]\", \"\").replace(\"[/E2]\", \"\").replace(\" \", \"\")\n",
    "      database[extr_target].append(temp)\n",
    "      database[\"sentence\"].append(ner_dataset['sentence'][i])\n",
    "      database[\"source\"].append(ner_dataset['source'][i])"
   ]
  },
  {
   "cell_type": "code",
   "execution_count": null,
   "metadata": {
    "collapsed": true
   },
   "outputs": [],
   "source": [
    "database = pd.DataFrame(database)\n",
    "database"
   ]
  },
  {
   "cell_type": "code",
   "execution_count": null,
   "metadata": {},
   "outputs": [],
   "source": [
    "database.to_csv('./extraction_new.csv',encoding='utf-8')"
   ]
  },
  {
   "cell_type": "markdown",
   "metadata": {},
   "source": [
    "### 微调"
   ]
  },
  {
   "cell_type": "code",
   "execution_count": 7,
   "metadata": {},
   "outputs": [],
   "source": [
    "import random\n",
    "# 打乱数据集\n",
    "combined = list(zip(ner_dataset['sentence'], ner_dataset['isrelated'], ner_dataset['source']))\n",
    "random.shuffle(combined)\n",
    "shuffled_sentences, shuffled_isrelated, shuffled_sources = zip(*combined)\n",
    "# 计算数据集长度\n",
    "length = len(shuffled_sentences)\n",
    "# 按比例划分数据集\n",
    "train_size = int(length * 0.7)\n",
    "train_dataset = {\n",
    "    'sentence': shuffled_sentences[:train_size],\n",
    "    'isrelated': shuffled_isrelated[:train_size],\n",
    "    'source': shuffled_sources[:train_size]\n",
    "}\n",
    "val_dataset = {\n",
    "    'sentence': shuffled_sentences[train_size:],\n",
    "    'isrelated': shuffled_isrelated[train_size:],\n",
    "    'source': shuffled_sources[train_size:]\n",
    "}"
   ]
  },
  {
   "cell_type": "code",
   "execution_count": 9,
   "metadata": {},
   "outputs": [],
   "source": [
    "tokenizer = BertTokenizerFast.from_pretrained(BERT_VERSION)\n",
    "new_tokens = [\"[E1]\", \"[/E1]\", \"[E2]\", \"[/E2]\"]\n",
    "tokenizer.add_tokens(list(new_tokens))\n",
    "train_ner = psie.RelationDataset(train_dataset, tokenizer, max_len=MAX_LEN)\n",
    "ner_params = {\"batch_size\": 8, \"shuffle\": False, \"num_workers\": 0}\n",
    "train_loader = DataLoader(train_ner, **ner_params)\n",
    "\n",
    "val_ner = psie.RelationDataset(val_dataset, tokenizer, max_len=MAX_LEN)\n",
    "ner_params = {\"batch_size\": 8, \"shuffle\": False, \"num_workers\": 0}\n",
    "val_loader = DataLoader(val_ner, **ner_params)"
   ]
  },
  {
   "cell_type": "code",
   "execution_count": 10,
   "metadata": {
    "collapsed": true
   },
   "outputs": [
    {
     "name": "stderr",
     "output_type": "stream",
     "text": [
      "Some weights of BertModel were not initialized from the model checkpoint at /datashare/dir_cyx/pretrained_models/m3rg-iitd/matscibert and are newly initialized: ['bert.pooler.dense.bias', 'bert.pooler.dense.weight']\n",
      "You should probably TRAIN this model on a down-stream task to be able to use it for predictions and inference.\n"
     ]
    },
    {
     "data": {
      "text/plain": [
       "BertForRelations(\n",
       "  (bert): BertModel(\n",
       "    (embeddings): BertEmbeddings(\n",
       "      (word_embeddings): Embedding(31094, 768)\n",
       "      (position_embeddings): Embedding(512, 768)\n",
       "      (token_type_embeddings): Embedding(2, 768)\n",
       "      (LayerNorm): LayerNorm((768,), eps=1e-12, elementwise_affine=True)\n",
       "      (dropout): Dropout(p=0.1, inplace=False)\n",
       "    )\n",
       "    (encoder): BertEncoder(\n",
       "      (layer): ModuleList(\n",
       "        (0-11): 12 x BertLayer(\n",
       "          (attention): BertAttention(\n",
       "            (self): BertSelfAttention(\n",
       "              (query): Linear(in_features=768, out_features=768, bias=True)\n",
       "              (key): Linear(in_features=768, out_features=768, bias=True)\n",
       "              (value): Linear(in_features=768, out_features=768, bias=True)\n",
       "              (dropout): Dropout(p=0.1, inplace=False)\n",
       "            )\n",
       "            (output): BertSelfOutput(\n",
       "              (dense): Linear(in_features=768, out_features=768, bias=True)\n",
       "              (LayerNorm): LayerNorm((768,), eps=1e-12, elementwise_affine=True)\n",
       "              (dropout): Dropout(p=0.1, inplace=False)\n",
       "            )\n",
       "          )\n",
       "          (intermediate): BertIntermediate(\n",
       "            (dense): Linear(in_features=768, out_features=3072, bias=True)\n",
       "            (intermediate_act_fn): GELUActivation()\n",
       "          )\n",
       "          (output): BertOutput(\n",
       "            (dense): Linear(in_features=3072, out_features=768, bias=True)\n",
       "            (LayerNorm): LayerNorm((768,), eps=1e-12, elementwise_affine=True)\n",
       "            (dropout): Dropout(p=0.1, inplace=False)\n",
       "          )\n",
       "        )\n",
       "      )\n",
       "    )\n",
       "    (pooler): BertPooler(\n",
       "      (dense): Linear(in_features=768, out_features=768, bias=True)\n",
       "      (activation): Tanh()\n",
       "    )\n",
       "  )\n",
       "  (dropout): Dropout(p=0.2, inplace=False)\n",
       "  (linear): Linear(in_features=768, out_features=2, bias=True)\n",
       "  (activation): Sigmoid()\n",
       ")"
      ]
     },
     "execution_count": 10,
     "metadata": {},
     "output_type": "execute_result"
    }
   ],
   "source": [
    "\n",
    "model = psie.BertForRelations(pretrained=BERT_VERSION, dropout=0.2, use_cls_embedding=True)\n",
    "model.bert.resize_token_embeddings(len(tokenizer))\n",
    "model.to(device)"
   ]
  },
  {
   "cell_type": "code",
   "execution_count": 12,
   "metadata": {},
   "outputs": [
    {
     "data": {
      "text/plain": [
       "tensor([0.7612, 1.4571], device='cuda:0')"
      ]
     },
     "execution_count": 12,
     "metadata": {},
     "output_type": "execute_result"
    }
   ],
   "source": [
    "from sklearn.utils.class_weight import compute_class_weight\n",
    "\n",
    "class_weights = compute_class_weight('balanced', classes=[0, 1], y=train_dataset['isrelated'])\n",
    "class_weights = torch.tensor(class_weights, dtype=torch.float32).to(device)\n",
    "class_weights"
   ]
  },
  {
   "cell_type": "code",
   "execution_count": 13,
   "metadata": {},
   "outputs": [
    {
     "name": "stderr",
     "output_type": "stream",
     "text": [
      "/home/cyx/anaconda3/envs/pytorch/lib/python3.8/site-packages/transformers/optimization.py:521: FutureWarning: This implementation of AdamW is deprecated and will be removed in a future version. Use the PyTorch implementation torch.optim.AdamW instead, or set `no_deprecation_warning=True` to disable this warning\n",
      "  warnings.warn(\n"
     ]
    }
   ],
   "source": [
    "from transformers import AdamW, get_linear_schedule_with_warmup\n",
    "\n",
    "# 初始化优化器和学习率调度器\n",
    "num_epochs = Num_Epochs\n",
    "max_norm = 0.5 # 梯度裁剪的最大范数\n",
    "optimizer = AdamW(model.parameters(), lr=1e-5, weight_decay=0.01, correct_bias=False)  # 添加权重衰减\n",
    "total_steps = len(train_loader) * num_epochs\n",
    "num_warmup_steps = int(total_steps * 0.1)  # 10% 的 warmup 步骤\n",
    "scheduler = get_linear_schedule_with_warmup(optimizer, \n",
    "                                            num_warmup_steps=num_warmup_steps, \n",
    "                                            num_training_steps=total_steps)"
   ]
  },
  {
   "cell_type": "code",
   "execution_count": 14,
   "metadata": {
    "collapsed": true
   },
   "outputs": [
    {
     "name": "stdout",
     "output_type": "stream",
     "text": [
      "Epoch 1/20\n",
      "Training loss per 100 training steps: 0.6731846332550049\n",
      "Training loss epoch: 0.7118882536888123\n",
      "Training Accuracy: 0.5392156862745098\n",
      "Validation loss: 0.7026423811912537\n",
      "Validation Accuracy: 0.5\n",
      "Validation F1 Score: 0.21428571428571427\n",
      "Validation Recall: 0.14285714285714285\n",
      "Epoch 2/20\n",
      "Training loss per 100 training steps: 0.686572253704071\n",
      "Training loss epoch: 0.7133489893032954\n",
      "Training Accuracy: 0.4803921568627451\n",
      "Validation loss: 0.707877496878306\n",
      "Validation Accuracy: 0.38636363636363635\n",
      "Validation F1 Score: 0.22857142857142854\n",
      "Validation Recall: 0.19047619047619047\n",
      "Epoch 3/20\n",
      "Training loss per 100 training steps: 0.6397807002067566\n",
      "Training loss epoch: 0.7002721887368423\n",
      "Training Accuracy: 0.5686274509803921\n",
      "Validation loss: 0.7095661660035452\n",
      "Validation Accuracy: 0.4318181818181818\n",
      "Validation F1 Score: 0.24242424242424246\n",
      "Validation Recall: 0.19047619047619047\n",
      "Epoch 4/20\n",
      "Training loss per 100 training steps: 0.6973217725753784\n",
      "Training loss epoch: 0.6841626671644357\n",
      "Training Accuracy: 0.5980392156862745\n",
      "Validation loss: 0.7488458752632141\n",
      "Validation Accuracy: 0.45454545454545453\n",
      "Validation F1 Score: 0.2\n",
      "Validation Recall: 0.14285714285714285\n",
      "Epoch 5/20\n",
      "Training loss per 100 training steps: 0.6990182995796204\n",
      "Training loss epoch: 0.68260258436203\n",
      "Training Accuracy: 0.6078431372549019\n",
      "Validation loss: 0.7806567947069804\n",
      "Validation Accuracy: 0.4318181818181818\n",
      "Validation F1 Score: 0.19354838709677416\n",
      "Validation Recall: 0.14285714285714285\n",
      "Epoch 6/20\n",
      "Training loss per 100 training steps: 0.7520025372505188\n",
      "Training loss epoch: 0.6620708979093112\n",
      "Training Accuracy: 0.6764705882352942\n",
      "Validation loss: 0.7825962901115417\n",
      "Validation Accuracy: 0.36363636363636365\n",
      "Validation F1 Score: 0.3636363636363636\n",
      "Validation Recall: 0.38095238095238093\n",
      "Epoch 7/20\n",
      "Training loss per 100 training steps: 0.6946754455566406\n",
      "Training loss epoch: 0.6626566969431363\n",
      "Training Accuracy: 0.5882352941176471\n",
      "Validation loss: 0.8443900843461355\n",
      "Validation Accuracy: 0.4090909090909091\n",
      "Validation F1 Score: 0.31578947368421056\n",
      "Validation Recall: 0.2857142857142857\n",
      "Epoch 8/20\n",
      "Training loss per 100 training steps: 0.7107721567153931\n",
      "Training loss epoch: 0.6553060916753916\n",
      "Training Accuracy: 0.6078431372549019\n",
      "Validation loss: 0.8540080090363821\n",
      "Validation Accuracy: 0.38636363636363635\n",
      "Validation F1 Score: 0.39999999999999997\n",
      "Validation Recall: 0.42857142857142855\n",
      "Epoch 9/20\n",
      "Training loss per 100 training steps: 0.6947251558303833\n",
      "Training loss epoch: 0.6343033726398761\n",
      "Training Accuracy: 0.6666666666666666\n",
      "Validation loss: 0.8911776542663574\n",
      "Validation Accuracy: 0.3409090909090909\n",
      "Validation F1 Score: 0.3829787234042554\n",
      "Validation Recall: 0.42857142857142855\n",
      "Epoch 10/20\n",
      "Training loss per 100 training steps: 0.7633862495422363\n",
      "Training loss epoch: 0.6545152068138123\n",
      "Training Accuracy: 0.6470588235294118\n",
      "Validation loss: 0.9135021567344666\n",
      "Validation Accuracy: 0.3409090909090909\n",
      "Validation F1 Score: 0.3829787234042554\n",
      "Validation Recall: 0.42857142857142855\n",
      "Epoch 11/20\n",
      "Training loss per 100 training steps: 0.804547905921936\n"
     ]
    },
    {
     "ename": "KeyboardInterrupt",
     "evalue": "",
     "output_type": "error",
     "traceback": [
      "\u001b[0;31m---------------------------------------------------------------------------\u001b[0m",
      "\u001b[0;31mKeyboardInterrupt\u001b[0m                         Traceback (most recent call last)",
      "Cell \u001b[0;32mIn[14], line 9\u001b[0m\n\u001b[1;32m      7\u001b[0m \u001b[38;5;28;01mfor\u001b[39;00m epoch \u001b[38;5;129;01min\u001b[39;00m \u001b[38;5;28mrange\u001b[39m(num_epochs):\n\u001b[1;32m      8\u001b[0m     \u001b[38;5;28mprint\u001b[39m(\u001b[38;5;124mf\u001b[39m\u001b[38;5;124m\"\u001b[39m\u001b[38;5;124mEpoch \u001b[39m\u001b[38;5;132;01m{\u001b[39;00mepoch\u001b[38;5;250m \u001b[39m\u001b[38;5;241m+\u001b[39m\u001b[38;5;250m \u001b[39m\u001b[38;5;241m1\u001b[39m\u001b[38;5;132;01m}\u001b[39;00m\u001b[38;5;124m/\u001b[39m\u001b[38;5;132;01m{\u001b[39;00mnum_epochs\u001b[38;5;132;01m}\u001b[39;00m\u001b[38;5;124m\"\u001b[39m)\n\u001b[0;32m----> 9\u001b[0m     epoch_loss, val_loss_avg, train_accuracy, accuracy, f1, recall \u001b[38;5;241m=\u001b[39m \u001b[43mmodel\u001b[49m\u001b[38;5;241;43m.\u001b[39;49m\u001b[43mfinetuning\u001b[49m\u001b[43m(\u001b[49m\u001b[43mtrain_loader\u001b[49m\u001b[43m,\u001b[49m\u001b[43m \u001b[49m\u001b[43mval_loader\u001b[49m\u001b[43m,\u001b[49m\u001b[43m \u001b[49m\u001b[43mdevice\u001b[49m\u001b[43m,\u001b[49m\u001b[43m \u001b[49m\u001b[43mmax_norm\u001b[49m\u001b[43m,\u001b[49m\u001b[43m \u001b[49m\u001b[43moptimizer\u001b[49m\u001b[43m,\u001b[49m\u001b[43mweight\u001b[49m\u001b[38;5;241;43m=\u001b[39;49m\u001b[43mclass_weights\u001b[49m\u001b[43m)\u001b[49m\n\u001b[1;32m     10\u001b[0m     tr_Loss_list\u001b[38;5;241m.\u001b[39mappend(epoch_loss)\n\u001b[1;32m     11\u001b[0m     tr_Acc_list\u001b[38;5;241m.\u001b[39mappend(train_accuracy)\n",
      "File \u001b[0;32m/datashare/dir_cyx/bert_psie/BERT-PSIE-TC-main/workflow/psie/relation.py:70\u001b[0m, in \u001b[0;36mBertForRelations.finetuning\u001b[0;34m(self, train_loader, val_loader, device, max_norm, optimizer, weight)\u001b[0m\n\u001b[1;32m     68\u001b[0m mask \u001b[38;5;241m=\u001b[39m batch[\u001b[38;5;124m'\u001b[39m\u001b[38;5;124mattention_mask\u001b[39m\u001b[38;5;124m'\u001b[39m]\u001b[38;5;241m.\u001b[39mto(device, dtype\u001b[38;5;241m=\u001b[39mtorch\u001b[38;5;241m.\u001b[39mlong)\n\u001b[1;32m     69\u001b[0m tags \u001b[38;5;241m=\u001b[39m batch[\u001b[38;5;124m'\u001b[39m\u001b[38;5;124mtag_positions\u001b[39m\u001b[38;5;124m'\u001b[39m]\u001b[38;5;241m.\u001b[39mto(device, dtype\u001b[38;5;241m=\u001b[39mtorch\u001b[38;5;241m.\u001b[39mlong)\n\u001b[0;32m---> 70\u001b[0m labels \u001b[38;5;241m=\u001b[39m \u001b[43mbatch\u001b[49m\u001b[43m[\u001b[49m\u001b[38;5;124;43m'\u001b[39;49m\u001b[38;5;124;43misrelated\u001b[39;49m\u001b[38;5;124;43m'\u001b[39;49m\u001b[43m]\u001b[49m\u001b[38;5;241;43m.\u001b[39;49m\u001b[43mto\u001b[49m\u001b[43m(\u001b[49m\u001b[43mdevice\u001b[49m\u001b[43m,\u001b[49m\u001b[43m \u001b[49m\u001b[43mdtype\u001b[49m\u001b[38;5;241;43m=\u001b[39;49m\u001b[43mtorch\u001b[49m\u001b[38;5;241;43m.\u001b[39;49m\u001b[43mlong\u001b[49m\u001b[43m)\u001b[49m\u001b[38;5;241m.\u001b[39mview(\u001b[38;5;241m-\u001b[39m\u001b[38;5;241m1\u001b[39m)\n\u001b[1;32m     72\u001b[0m predictions \u001b[38;5;241m=\u001b[39m \u001b[38;5;28mself\u001b[39m(input_ids\u001b[38;5;241m=\u001b[39mids, attention_mask\u001b[38;5;241m=\u001b[39mmask, tags\u001b[38;5;241m=\u001b[39mtags)\u001b[38;5;241m.\u001b[39mview(\u001b[38;5;241m-\u001b[39m\u001b[38;5;241m1\u001b[39m, \u001b[38;5;241m2\u001b[39m)\n\u001b[1;32m     74\u001b[0m batch_loss \u001b[38;5;241m=\u001b[39m criterion(predictions, labels)\n",
      "\u001b[0;31mKeyboardInterrupt\u001b[0m: "
     ]
    }
   ],
   "source": [
    "tr_Loss_list = []\n",
    "val_Loss_list = []\n",
    "val_Acc_list = []\n",
    "val_f1_list = []\n",
    "val_recall_list = []\n",
    "tr_Acc_list = []\n",
    "for epoch in range(num_epochs):\n",
    "    print(f\"Epoch {epoch + 1}/{num_epochs}\")\n",
    "    epoch_loss, val_loss_avg, train_accuracy, accuracy, f1, recall = model.finetuning(train_loader, val_loader, device, max_norm, optimizer,weight=class_weights)\n",
    "    tr_Loss_list.append(epoch_loss)\n",
    "    tr_Acc_list.append(train_accuracy)\n",
    "    val_Acc_list.append(accuracy)\n",
    "    val_Loss_list.append(val_loss_avg)\n",
    "    val_f1_list.append(f1)\n",
    "    val_recall_list.append(recall)\n",
    "    # 更新学习率\n",
    "    scheduler.step()"
   ]
  }
 ],
 "metadata": {
  "accelerator": "GPU",
  "colab": {
   "authorship_tag": "ABX9TyPothDqFyA9dw0yEkIYkXKr",
   "provenance": []
  },
  "gpuClass": "standard",
  "kernelspec": {
   "display_name": "Python 3 (ipykernel)",
   "language": "python",
   "name": "python3"
  },
  "language_info": {
   "codemirror_mode": {
    "name": "ipython",
    "version": 3
   },
   "file_extension": ".py",
   "mimetype": "text/x-python",
   "name": "python",
   "nbconvert_exporter": "python",
   "pygments_lexer": "ipython3",
   "version": "3.11.5"
  },
  "toc": {
   "base_numbering": 1,
   "nav_menu": {},
   "number_sections": true,
   "sideBar": true,
   "skip_h1_title": false,
   "title_cell": "Table of Contents",
   "title_sidebar": "Contents",
   "toc_cell": false,
   "toc_position": {
    "height": "calc(100% - 180px)",
    "left": "10px",
    "top": "150px",
    "width": "270.526px"
   },
   "toc_section_display": true,
   "toc_window_display": true
  },
  "widgets": {
   "application/vnd.jupyter.widget-state+json": {
    "3147e3e6008e4f33aaf76c209f90780a": {
     "model_module": "@jupyter-widgets/controls",
     "model_module_version": "1.5.0",
     "model_name": "RadioButtonsModel",
     "state": {
      "_dom_classes": [],
      "_model_module": "@jupyter-widgets/controls",
      "_model_module_version": "1.5.0",
      "_model_name": "RadioButtonsModel",
      "_options_labels": [
       "Band Gap",
       "Curie Temperature"
      ],
      "_view_count": null,
      "_view_module": "@jupyter-widgets/controls",
      "_view_module_version": "1.5.0",
      "_view_name": "RadioButtonsView",
      "description": "",
      "description_tooltip": null,
      "disabled": false,
      "index": 0,
      "layout": "IPY_MODEL_ba6841c326eb4393ac906bb2522b1f6b",
      "style": "IPY_MODEL_438da170a4cd469aaabf925015a68691"
     }
    },
    "438da170a4cd469aaabf925015a68691": {
     "model_module": "@jupyter-widgets/controls",
     "model_module_version": "1.5.0",
     "model_name": "DescriptionStyleModel",
     "state": {
      "_model_module": "@jupyter-widgets/controls",
      "_model_module_version": "1.5.0",
      "_model_name": "DescriptionStyleModel",
      "_view_count": null,
      "_view_module": "@jupyter-widgets/base",
      "_view_module_version": "1.2.0",
      "_view_name": "StyleView",
      "description_width": ""
     }
    },
    "ba6841c326eb4393ac906bb2522b1f6b": {
     "model_module": "@jupyter-widgets/base",
     "model_module_version": "1.2.0",
     "model_name": "LayoutModel",
     "state": {
      "_model_module": "@jupyter-widgets/base",
      "_model_module_version": "1.2.0",
      "_model_name": "LayoutModel",
      "_view_count": null,
      "_view_module": "@jupyter-widgets/base",
      "_view_module_version": "1.2.0",
      "_view_name": "LayoutView",
      "align_content": null,
      "align_items": null,
      "align_self": null,
      "border": null,
      "bottom": null,
      "display": null,
      "flex": null,
      "flex_flow": null,
      "grid_area": null,
      "grid_auto_columns": null,
      "grid_auto_flow": null,
      "grid_auto_rows": null,
      "grid_column": null,
      "grid_gap": null,
      "grid_row": null,
      "grid_template_areas": null,
      "grid_template_columns": null,
      "grid_template_rows": null,
      "height": null,
      "justify_content": null,
      "justify_items": null,
      "left": null,
      "margin": null,
      "max_height": null,
      "max_width": null,
      "min_height": null,
      "min_width": null,
      "object_fit": null,
      "object_position": null,
      "order": null,
      "overflow": null,
      "overflow_x": null,
      "overflow_y": null,
      "padding": null,
      "right": null,
      "top": null,
      "visibility": null,
      "width": null
     }
    }
   }
  }
 },
 "nbformat": 4,
 "nbformat_minor": 1
}
